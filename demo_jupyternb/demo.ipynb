{
 "cells": [
  {
   "cell_type": "code",
   "execution_count": 1,
   "metadata": {},
   "outputs": [
    {
     "name": "stdout",
     "output_type": "stream",
     "text": [
      "/home/rsujatha/mockhaloprop/CAB\n"
     ]
    }
   ],
   "source": [
    "import numpy as np\n",
    "import sys\n",
    "sys.path.append('..')\n",
    "sys.path.append('../CAB/')\n",
    "import createmock as cm\n",
    "import cab"
   ]
  },
  {
   "cell_type": "markdown",
   "metadata": {},
   "source": [
    "### Demo to create mock halo properties for dark matter haloes\n",
    "##### Input : halo mass and information of the tidal environment\n",
    "##### Output : halo properties\n",
    "\n",
    "###### we will import sample catalog containing information regarding the halo mass and environment"
   ]
  },
  {
   "cell_type": "code",
   "execution_count": 2,
   "metadata": {},
   "outputs": [],
   "source": [
    "x,y,z,m200b,m200c,alpha = np.loadtxt('./sample_halo_catalog.txt',unpack=True,usecols=[0,1,2,3,4,5])"
   ]
  },
  {
   "cell_type": "code",
   "execution_count": 3,
   "metadata": {},
   "outputs": [
    {
     "name": "stdout",
     "output_type": "stream",
     "text": [
      "(1440,) (1440,)\n"
     ]
    }
   ],
   "source": [
    "haloprops = ['Spin']\n",
    "k,Tfn = np.loadtxt('camb_99480543_transfer_out_z0_p18.dat',usecols= [0,1],unpack=True)\n",
    "print (x.shape,m200b.shape)\n",
    "mock1 = cm.createmock(m200b,m200c,alpha,k,Tfn,alphaprop=[\"interpolate\",4],Omega_matter = 0.306,Omega_lambda = 0.694,H_0=67.8,ns=0.9677, sigma_8 = 0.815 ,Omega_baryon = 0.0484,z=0)"
   ]
  },
  {
   "cell_type": "code",
   "execution_count": 12,
   "metadata": {},
   "outputs": [
    {
     "name": "stdout",
     "output_type": "stream",
     "text": [
      "rhomax 0.0402988240053144 rhomin 0.03866344257033436\n",
      "alphamaxmin 4.938928790030642 0.03597847074173455\n",
      "0.0019626617431640625\n",
      "c [-0.25027462  1.09638892  0.53088105 ... -1.45417549  0.11133368\n",
      "  0.27126361]\n",
      "rhomax 0.2555102906466691 rhomin 0.251754626034249\n",
      "alphamaxmin 4.938928790030642 0.03597847074173455\n",
      "0.002015829086303711\n",
      "c [ 0.57528955 -1.0705026   0.35607757 ... -1.33792465 -0.32613934\n",
      "  0.36892744]\n",
      "rhomax 0.1861179473747239 rhomin 0.1855052269750232\n",
      "alphamaxmin 4.938928790030642 0.03597847074173455\n",
      "0.0019042491912841797\n",
      "c [ 0.32884051 -0.78081747  1.88267096 ... -2.55379666  0.1401283\n",
      " -1.92097258]\n",
      "rhomax 0.20146949755774737 rhomin 0.20129725527995546\n",
      "alphamaxmin 4.938928790030642 0.03597847074173455\n",
      "0.002265453338623047\n",
      "c [-0.04157775  0.26620944 -0.94619343 ...  0.43861029 -0.09830781\n",
      "  0.58312733]\n",
      "rhomax 0.22152680860139265 rhomin 0.22104603264544428\n",
      "alphamaxmin 4.938928790030642 0.03597847074173455\n",
      "0.0019207000732421875\n",
      "c [-1.07532185 -1.41965559  1.39790482 ... -0.68164941 -0.85877009\n",
      " -0.52112161]\n"
     ]
    }
   ],
   "source": [
    "spin = mock1.makemock(['Spin'])\n",
    "c200b = mock1.makemock(['c200b'])\n",
    "vc_to_va = mock1.makemock(['vc_to_va'])\n",
    "c_to_a = mock1.makemock(['c_to_a'])\n",
    "beta = mock1.makemock(['beta'])"
   ]
  },
  {
   "cell_type": "code",
   "execution_count": null,
   "metadata": {},
   "outputs": [],
   "source": []
  },
  {
   "cell_type": "code",
   "execution_count": null,
   "metadata": {},
   "outputs": [],
   "source": []
  }
 ],
 "metadata": {
  "celltoolbar": "Raw Cell Format",
  "kernelspec": {
   "display_name": "Python 3",
   "language": "python",
   "name": "python3"
  },
  "language_info": {
   "codemirror_mode": {
    "name": "ipython",
    "version": 3
   },
   "file_extension": ".py",
   "mimetype": "text/x-python",
   "name": "python",
   "nbconvert_exporter": "python",
   "pygments_lexer": "ipython3",
   "version": "3.8.10"
  },
  "varInspector": {
   "cols": {
    "lenName": 16,
    "lenType": 16,
    "lenVar": 40
   },
   "kernels_config": {
    "python": {
     "delete_cmd_postfix": "",
     "delete_cmd_prefix": "del ",
     "library": "var_list.py",
     "varRefreshCmd": "print(var_dic_list())"
    },
    "r": {
     "delete_cmd_postfix": ") ",
     "delete_cmd_prefix": "rm(",
     "library": "var_list.r",
     "varRefreshCmd": "cat(var_dic_list()) "
    }
   },
   "types_to_exclude": [
    "module",
    "function",
    "builtin_function_or_method",
    "instance",
    "_Feature"
   ],
   "window_display": false
  }
 },
 "nbformat": 4,
 "nbformat_minor": 4
}
